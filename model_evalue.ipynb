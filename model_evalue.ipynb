{
 "cells": [
  {
   "cell_type": "code",
   "execution_count": null,
   "metadata": {
    "ExecuteTime": {
     "end_time": "2024-10-11T07:56:16.272133Z",
     "start_time": "2024-10-11T07:56:07.799261500Z"
    },
    "collapsed": false
   },
   "outputs": [],
   "source": [
    "import torch\n",
    "import torch.nn as nn\n",
    "import torch.nn.functional as F\n",
    "from model_evalue_plot import double_ellipse_draw,double_rectangle_draw,circle_draw,rec_draw,cross_draw,lack_rec_draw,ring_draw\n",
    "import torchvision\n",
    "from tqdm import tqdm\n",
    "import pickle\n",
    "import numpy as np\n",
    "import pandas as pd\n",
    "from scipy import interpolate\n",
    "from sklearn.metrics import r2_score\n",
    "from matplotlib import pyplot as plt"
   ]
  },
  {
   "cell_type": "code",
   "execution_count": null,
   "metadata": {},
   "outputs": [],
   "source": [
    "if torch.cuda.is_available():\n",
    "    DEVICE = torch.device(\"cuda\")\n",
    "elif torch.backends.mps.is_available():\n",
    "    DEVICE = torch.device(\"mps\")\n",
    "else:\n",
    "    DEVICE = torch.device(\"cpu\")"
   ]
  },
  {
   "cell_type": "code",
   "execution_count": 2,
   "metadata": {
    "ExecuteTime": {
     "end_time": "2024-10-11T07:56:16.273130800Z",
     "start_time": "2024-10-11T07:56:16.239221Z"
    },
    "collapsed": false
   },
   "outputs": [],
   "source": [
    "class resnet50(nn.Module):\n",
    "    def __init__(self, output_size):\n",
    "        super(resnet50, self).__init__()\n",
    "        self.resnet = torchvision.models.resnet50(pretrained=True)\n",
    "        self.resnet.conv1 = nn.Conv2d(3, 64, kernel_size=(7, 7), stride=(2, 2), padding=(3, 3), bias=False)\n",
    "        num_ftrs = self.resnet.fc.in_features\n",
    "        self.resnet.fc = nn.Sequential(\n",
    "        nn.Linear(num_ftrs, 1024),\n",
    "        nn.Dropout(0.5),\n",
    "        nn.Linear(1024, output_size),\n",
    "        nn.Sigmoid()\n",
    ")\n",
    "    def forward(self, x,w):\n",
    "        x = self.resnet(x)\n",
    "        return x"
   ]
  },
  {
   "cell_type": "code",
   "execution_count": 3,
   "metadata": {
    "ExecuteTime": {
     "end_time": "2024-10-11T07:56:16.302059200Z",
     "start_time": "2024-10-11T07:56:16.251188900Z"
    },
    "collapsed": false
   },
   "outputs": [],
   "source": [
    "def preprocess_evaluate(pred_data):\n",
    "    pred_data = pickle.load(open(pred_data, \"rb\"))\n",
    "    label = pred_data[\"input_data\"]\n",
    "    pred_data = pred_data[\"pred\"]\n",
    "    types = []\n",
    "    args = []\n",
    "    for i in tqdm(range(len(pred_data))):\n",
    "        try:\n",
    "            pattern = r'-?\\d+\\.?\\d*'\n",
    "            type = pred_data[i].split(\",\")[0].strip()\n",
    "            split_data = re.findall(pattern, pred_data[i])\n",
    "            split_data = [float(i) for i in split_data]\n",
    "            if type == \"cross\":\n",
    "                W1, L1, W2, L2, offset, phi, Px, Py = split_data\n",
    "                types.append(type)\n",
    "                args.append([W1, L1, W2, L2, offset, Px, Py, phi])\n",
    "            elif type == \"rec\":\n",
    "                W,L,phi,Px,Py = split_data\n",
    "                types.append(type)\n",
    "                args.append([L, W, Px, Py, phi])\n",
    "            elif type == \"ellipse\":\n",
    "                a, b, phi, Px, Py = split_data\n",
    "                types.append(type)\n",
    "                args.append([a, b, Px, Py, phi])\n",
    "            elif type == \"double_rec\":\n",
    "                W1, L1, W2, L2, Px, Py, phi = split_data\n",
    "                types.append(type)\n",
    "                args.append([W1, L1, W2, L2, Px, Py, phi])\n",
    "            elif type == \"double_ellipse\":\n",
    "                a, b, theta, Px, Py, phi = split_data\n",
    "                types.append(type)\n",
    "                args.append([a, b, theta, Px, Py, phi])\n",
    "            elif type == \"lack_rec\":\n",
    "                W, L, alpha, beta, gamma, Px, Py, phi = split_data\n",
    "                types.append(type)\n",
    "                args.append([L, W, alpha, beta, gamma, Px, Py, phi])\n",
    "            elif type == \"ring\":\n",
    "                R, r, theta, phi, Px, Py = split_data\n",
    "                types.append(type)\n",
    "                args.append([R, r, theta, phi, Px, Py])\n",
    "            else:\n",
    "                types.append(\"Type Error\")\n",
    "                args.append(\"Type Error\")\n",
    "        except:\n",
    "            types.append(\"pred Error\")\n",
    "            args.append([\"pred Error\"])\n",
    "\n",
    "    return types, args, label"
   ]
  },
  {
   "cell_type": "code",
   "execution_count": 4,
   "metadata": {
    "ExecuteTime": {
     "end_time": "2024-10-11T07:56:16.728914400Z",
     "start_time": "2024-10-11T07:56:16.308036800Z"
    },
    "collapsed": false
   },
   "outputs": [],
   "source": [
    "def spectrum_interpolation(x, y, x_new):\n",
    "    f = interpolate.interp1d(x, y, kind='linear', axis=1)\n",
    "    y_new_all = f(x_new)\n",
    "    return y_new_all"
   ]
  },
  {
   "cell_type": "code",
   "execution_count": 6,
   "metadata": {
    "ExecuteTime": {
     "end_time": "2024-10-11T07:56:16.730908700Z",
     "start_time": "2024-10-11T07:56:16.332970200Z"
    },
    "collapsed": false
   },
   "outputs": [],
   "source": [
    "def model_predict(img):\n",
    "    model = resnet50(100).to(DEVICE)\n",
    "    resnet_path = r'D:\\codes\\data_autmention_model_final\\runs\\2024082301\\model\\2024082301_best.pth'\n",
    "    model.load_state_dict(torch.load(resnet_path)['model_state_dict'])\n",
    "    model.eval()\n",
    "    light_source = np.linspace(400,800,100)\n",
    "    img = img.to(DEVICE)\n",
    "# 每500个数据一个batch\n",
    "    for i in tqdm(range(0, len(img), 500)):\n",
    "        wavePred= model(img[i:i+500], 0).cpu().detach().numpy()\n",
    "        if i == 0:\n",
    "            wavePred_all = wavePred\n",
    "        else:\n",
    "            wavePred_all = np.concatenate((wavePred_all, wavePred), axis=0)\n",
    "    return  wavePred_all\n",
    "    # cross_wave_pred = pd.DataFrame(wavePred_all, columns=light_source)\n",
    "    # cross_wave_pred.to_csv(r\"data/eval_data_VIT_7_epoch_9.pkl.csv\", index=False)\n"
   ]
  },
  {
   "cell_type": "code",
   "execution_count": 7,
   "metadata": {
    "ExecuteTime": {
     "end_time": "2024-10-11T07:56:16.961289400Z",
     "start_time": "2024-10-11T07:56:16.942340400Z"
    },
    "collapsed": false
   },
   "outputs": [],
   "source": [
    "def R2score_plot(y, y_pred):\n",
    "    # 创建图表\n",
    "    fig, ax = plt.subplots(figsize=(7, 6))\n",
    "\n",
    "    # 计算 R2 得分\n",
    "    r2_visible = r2_score(y, y_pred)\n",
    "\n",
    "    # 绘制散点图\n",
    "    ax.scatter(y, y_pred, color='blue')\n",
    "    ax.set_title('可见光谱')\n",
    "    ax.set_xlabel('真实值')\n",
    "    ax.set_ylabel('预测值')\n",
    "    ax.text(0.05, 0.95, f'R2 得分: {r2_visible:.3f}', transform=ax.transAxes, fontsize=12, verticalalignment='top')\n",
    "    ax.set_xlim([0, 1])\n",
    "    ax.set_ylim([0, 1])\n",
    "\n",
    "    # 显示图像\n",
    "    plt.show()"
   ]
  },
  {
   "cell_type": "code",
   "execution_count": null,
   "metadata": {
    "ExecuteTime": {
     "end_time": "2024-10-11T09:45:50.534789500Z",
     "start_time": "2024-10-11T07:56:51.681866900Z"
    },
    "collapsed": false
   },
   "outputs": [],
   "source": [
    "type, args, label = preprocess_evaluate(r\"D:\\codes\\transformer_for_metasurface\\eval_data_VIT_05_epoch_6.pkl\")\n",
    "\n",
    "pred_tensor = []\n",
    "labels = []\n",
    "for i in tqdm(range(len(type))):\n",
    "    if type[i] == \"Type Error\" or args[i][0] == \"pred Error\":\n",
    "        continue\n",
    "    else:\n",
    "        labels.append(label[i])\n",
    "        if type[i] == \"cross\":\n",
    "            img_tensor = cross_draw(args[i])\n",
    "        elif type[i] == \"rec\":\n",
    "            img_tensor = rec_draw(args[i])\n",
    "        elif type[i] == \"ellipse\":\n",
    "            img_tensor = circle_draw(args[i])\n",
    "        elif type[i] == \"double_rec\":\n",
    "            img_tensor = double_rectangle_draw(args[i])\n",
    "        elif type[i] == \"double_ellipse\":\n",
    "            img_tensor = double_ellipse_draw(args[i])\n",
    "        elif type[i] == \"lack_rec\":\n",
    "            img_tensor = lack_rec_draw(args[i])\n",
    "        elif type[i] == \"ring\":\n",
    "            img_tensor = ring_draw(args[i])\n",
    "        pred_tensor.append(img_tensor)\n",
    "\n",
    "img = torch.stack(pred_tensor)"
   ]
  },
  {
   "cell_type": "code",
   "execution_count": null,
   "metadata": {
    "ExecuteTime": {
     "end_time": "2024-10-11T09:46:05.035017200Z",
     "start_time": "2024-10-11T09:45:50.536784200Z"
    },
    "collapsed": false
   },
   "outputs": [],
   "source": [
    "wavePred_all = model_predict(img)"
   ]
  },
  {
   "cell_type": "code",
   "execution_count": null,
   "metadata": {
    "ExecuteTime": {
     "end_time": "2024-10-11T10:21:39.288895900Z",
     "start_time": "2024-10-11T10:21:39.232048200Z"
    },
    "collapsed": false
   },
   "outputs": [],
   "source": [
    "wavePred_all"
   ]
  },
  {
   "cell_type": "code",
   "execution_count": 10,
   "metadata": {
    "ExecuteTime": {
     "end_time": "2024-10-11T10:21:43.439797Z",
     "start_time": "2024-10-11T10:21:42.728703200Z"
    },
    "collapsed": false
   },
   "outputs": [],
   "source": [
    "light_source = np.linspace(400,800,100)\n",
    "light_source_new = np.linspace(400,800,500)\n",
    "preds = spectrum_interpolation(light_source, wavePred_all, light_source_new)"
   ]
  },
  {
   "cell_type": "code",
   "execution_count": null,
   "metadata": {
    "ExecuteTime": {
     "end_time": "2024-10-11T10:21:46.406862800Z",
     "start_time": "2024-10-11T10:21:46.359987400Z"
    },
    "collapsed": false
   },
   "outputs": [],
   "source": [
    "preds"
   ]
  },
  {
   "cell_type": "code",
   "execution_count": null,
   "metadata": {
    "ExecuteTime": {
     "end_time": "2024-09-29T13:58:59.271123100Z",
     "start_time": "2024-09-29T13:58:59.251177Z"
    },
    "collapsed": false
   },
   "outputs": [],
   "source": [
    "labels[0]"
   ]
  },
  {
   "cell_type": "code",
   "execution_count": null,
   "metadata": {
    "ExecuteTime": {
     "end_time": "2024-10-11T10:23:36.406349500Z",
     "start_time": "2024-10-11T10:23:36.070230600Z"
    },
    "collapsed": false
   },
   "outputs": [],
   "source": [
    "choice = np.random.choice(len(labels), 1)[0]\n",
    "plt.plot(light_source_new, preds[choice], label=\"pred\")\n",
    "plt.plot(light_source_new, labels[choice], label=\"label\")\n",
    "plt.legend()\n",
    "plt.show()\n",
    "type[choice],args[choice]"
   ]
  },
  {
   "cell_type": "code",
   "execution_count": null,
   "metadata": {
    "ExecuteTime": {
     "end_time": "2024-09-29T13:59:02.780978Z",
     "start_time": "2024-09-29T13:59:02.770006500Z"
    },
    "collapsed": false
   },
   "outputs": [],
   "source": [
    "choice #6438,119,4845,7098。363"
   ]
  },
  {
   "cell_type": "code",
   "execution_count": 361,
   "metadata": {
    "ExecuteTime": {
     "end_time": "2024-09-29T13:59:05.317705500Z",
     "start_time": "2024-09-29T13:59:05.301188100Z"
    },
    "collapsed": false
   },
   "outputs": [],
   "source": []
  },
  {
   "cell_type": "code",
   "execution_count": null,
   "metadata": {
    "ExecuteTime": {
     "end_time": "2024-09-29T13:59:07.300998Z",
     "start_time": "2024-09-29T13:59:07.013765900Z"
    },
    "collapsed": false
   },
   "outputs": [],
   "source": [
    "preds[0]"
   ]
  },
  {
   "cell_type": "code",
   "execution_count": null,
   "metadata": {
    "ExecuteTime": {
     "end_time": "2024-09-29T13:59:08.484061100Z",
     "start_time": "2024-09-29T13:59:08.340935200Z"
    },
    "collapsed": false
   },
   "outputs": [],
   "source": [
    "r2_score(labels, preds)"
   ]
  },
  {
   "cell_type": "code",
   "execution_count": null,
   "metadata": {
    "ExecuteTime": {
     "end_time": "2024-09-29T13:59:09.219744900Z",
     "start_time": "2024-09-29T13:59:09.089327800Z"
    },
    "collapsed": false
   },
   "outputs": [],
   "source": [
    "mse = np.mean((labels - preds) ** 2, axis=1)\n",
    "mae = np.mean(np.abs(labels - preds), axis=1)\n",
    "np.mean(mse), np.mean(mae)"
   ]
  },
  {
   "cell_type": "code",
   "execution_count": null,
   "metadata": {
    "ExecuteTime": {
     "end_time": "2024-09-28T09:55:10.882173600Z",
     "start_time": "2024-09-28T09:55:10.460301900Z"
    },
    "collapsed": false
   },
   "outputs": [],
   "source": [
    "# 1. 平均光谱对比图\n",
    "mean_label = np.mean(labels, axis=0)\n",
    "mean_pred = np.mean(preds, axis=0)\n",
    "\n",
    "plt.figure(figsize=(10, 6))\n",
    "plt.plot(mean_label, label='Mean True Spectrum')\n",
    "plt.plot(mean_pred, '--', label='Mean Predicted Spectrum')\n",
    "plt.xlabel('Spectral Points')\n",
    "plt.ylabel('Intensity')\n",
    "plt.legend()\n",
    "plt.title('Comparison of Mean True and Predicted Spectra')\n",
    "plt.show()"
   ]
  },
  {
   "cell_type": "code",
   "execution_count": null,
   "metadata": {
    "ExecuteTime": {
     "end_time": "2024-09-29T14:08:23.341276100Z",
     "start_time": "2024-09-29T14:08:22.981117Z"
    },
    "collapsed": false
   },
   "outputs": [],
   "source": [
    "# 2. 误差分布图（直方图）\n",
    "errors = labels - preds\n",
    "plt.figure(figsize=(10, 6))\n",
    "plt.hist(errors.flatten(), bins=50, alpha=0.7, color='g')\n",
    "plt.xlabel('Error (True - Pred)')\n",
    "plt.ylabel('Frequency')\n",
    "plt.title('Distribution of Prediction Errors')\n",
    "plt.show()"
   ]
  },
  {
   "cell_type": "code",
   "execution_count": null,
   "metadata": {
    "ExecuteTime": {
     "end_time": "2024-09-28T09:55:49.969904800Z",
     "start_time": "2024-09-28T09:55:49.617847100Z"
    },
    "collapsed": false
   },
   "outputs": [],
   "source": [
    "mean_error = np.mean(errors, axis=0)\n",
    "std_error = np.std(errors, axis=0)\n",
    "\n",
    "plt.figure(figsize=(10, 6))\n",
    "plt.plot(mean_error, label='Mean Error')\n",
    "plt.fill_between(range(len(mean_error)), mean_error - std_error, mean_error + std_error, alpha=0.3, color='r', label='Error Std Dev')\n",
    "plt.xlabel('Spectral Points')\n",
    "plt.ylabel('Error (True - Pred)')\n",
    "plt.legend()\n",
    "plt.title('Mean and Standard Deviation of Errors across Spectral Points')\n",
    "plt.show()"
   ]
  },
  {
   "cell_type": "code",
   "execution_count": null,
   "metadata": {
    "ExecuteTime": {
     "end_time": "2024-09-08T14:58:55.264806600Z",
     "start_time": "2024-09-08T14:57:31.559939800Z"
    },
    "collapsed": false
   },
   "outputs": [],
   "source": [
    "# 4. 误差的箱线图\n",
    "plt.figure(figsize=(10, 6))\n",
    "plt.boxplot(errors.T, showfliers=False)  # 转置使每个光谱点成为一个箱线图\n",
    "plt.xlabel('Spectral Points')\n",
    "plt.ylabel('Error (True - Pred)')\n",
    "plt.title('Box Plot of Errors at Each Spectral Point')\n",
    "plt.show()"
   ]
  },
  {
   "cell_type": "code",
   "execution_count": null,
   "metadata": {
    "ExecuteTime": {
     "end_time": "2024-09-08T14:58:55.656124600Z",
     "start_time": "2024-09-08T14:58:55.268796Z"
    },
    "collapsed": false
   },
   "outputs": [],
   "source": [
    "plt.figure(figsize=(10, 6))\n",
    "plt.imshow(errors, aspect='auto', cmap='viridis', interpolation='none')\n",
    "plt.colorbar(label='Error (True - Pred)')\n",
    "plt.xlabel('Spectral Points')\n",
    "plt.ylabel('Spectra')\n",
    "plt.title('Heatmap of Prediction Errors')\n",
    "plt.show()"
   ]
  },
  {
   "cell_type": "code",
   "execution_count": null,
   "metadata": {
    "collapsed": false
   },
   "outputs": [],
   "source": []
  }
 ],
 "metadata": {
  "kernelspec": {
   "display_name": "pytorch",
   "language": "python",
   "name": "python3"
  },
  "language_info": {
   "codemirror_mode": {
    "name": "ipython",
    "version": 3
   },
   "file_extension": ".py",
   "mimetype": "text/x-python",
   "name": "python",
   "nbconvert_exporter": "python",
   "pygments_lexer": "ipython3",
   "version": "3.9.19"
  }
 },
 "nbformat": 4,
 "nbformat_minor": 0
}
